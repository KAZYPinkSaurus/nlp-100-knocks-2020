{
 "cells": [
  {
   "cell_type": "markdown",
   "metadata": {},
   "source": [
    "# 第7章: 単語ベクトル\n",
    "単語の意味を実ベクトルで表現する単語ベクトル（単語埋め込み）に関して，以下の処理を行うプログラムを作成せよ．"
   ]
  },
  {
   "cell_type": "markdown",
   "metadata": {},
   "source": [
    "## 60. 単語ベクトルの読み込みと表示\n",
    "Google Newsデータセット（約1,000億単語）での学習済み単語ベクトル（300万単語・フレーズ，300次元）をダウンロードし，”United States”の単語ベクトルを表示せよ．ただし，”United States”は内部的には”United_States”と表現されていることに注意せよ．"
   ]
  },
  {
   "cell_type": "code",
   "execution_count": 24,
   "metadata": {},
   "outputs": [],
   "source": [
    "from gensim.models import Word2Vec\n",
    "from gensim.models import KeyedVectors\n",
    "\n",
    "model = KeyedVectors.load_word2vec_format('files/GoogleNews-vectors-negative300.bin', binary=True)"
   ]
  },
  {
   "cell_type": "code",
   "execution_count": 104,
   "metadata": {},
   "outputs": [],
   "source": [
    "united_states_vector = model.get_vector('United_States')"
   ]
  },
  {
   "cell_type": "markdown",
   "metadata": {},
   "source": [
    "## 61. 単語の類似度\n",
    "“United States”と”U.S.”のコサイン類似度を計算せよ．"
   ]
  },
  {
   "cell_type": "code",
   "execution_count": 105,
   "metadata": {},
   "outputs": [],
   "source": [
    "us_vector = model.get_vector('U.S.')"
   ]
  },
  {
   "cell_type": "code",
   "execution_count": 106,
   "metadata": {},
   "outputs": [],
   "source": [
    "def cosine_similarity(a,b):\n",
    "    return np.dot(a,b)/(np.linalg.norm(a, ord=2)*np.linalg.norm(b, ord=2))\n"
   ]
  },
  {
   "cell_type": "code",
   "execution_count": 107,
   "metadata": {},
   "outputs": [
    {
     "data": {
      "text/plain": [
       "0.7310775"
      ]
     },
     "execution_count": 107,
     "metadata": {},
     "output_type": "execute_result"
    }
   ],
   "source": [
    "cosine_similarity(united_states_vector,us_vector)"
   ]
  },
  {
   "cell_type": "markdown",
   "metadata": {},
   "source": [
    "## 62. 類似度の高い単語10件\n",
    "“United States”とコサイン類似度が高い10語と，その類似度を出力せよ．"
   ]
  },
  {
   "cell_type": "code",
   "execution_count": 93,
   "metadata": {},
   "outputs": [],
   "source": [
    "similarities = [cosine_similarity(vector,united_states_vector) for vector in model.vectors]"
   ]
  },
  {
   "cell_type": "code",
   "execution_count": 101,
   "metadata": {},
   "outputs": [
    {
     "data": {
      "text/plain": [
       "array(['United_States', 'Unites_States', 'Untied_States', 'United_Sates',\n",
       "       'U.S.', 'theUnited_States', 'America', 'UnitedStates', 'Europe',\n",
       "       'countries'], dtype='<U98')"
      ]
     },
     "execution_count": 101,
     "metadata": {},
     "output_type": "execute_result"
    }
   ],
   "source": [
    "np.array(model.index2word)[np.argsort(similarities)[::-1][:10]]"
   ]
  },
  {
   "cell_type": "markdown",
   "metadata": {},
   "source": [
    "## 63. 加法構成性によるアナロジー\n",
    "“Spain”の単語ベクトルから”Madrid”のベクトルを引き，”Athens”のベクトルを足したベクトルを計算し，そのベクトルと類似度の高い10語とその類似度を出力せよ．"
   ]
  },
  {
   "cell_type": "code",
   "execution_count": 109,
   "metadata": {},
   "outputs": [
    {
     "data": {
      "text/plain": [
       "array(['Athens', 'Greece', 'Aristeidis_Grigoriadis', 'Ioannis_Drymonakos',\n",
       "       'Greeks', 'Ioannis_Christou', 'Hrysopiyi_Devetzi', 'Iraklion',\n",
       "       'Greek', 'Athens_Greece'], dtype='<U98')"
      ]
     },
     "execution_count": 109,
     "metadata": {},
     "output_type": "execute_result"
    }
   ],
   "source": [
    "vec = model.get_vector('Spain') -  model.get_vector('Madrid') + model.get_vector('Athens')\n",
    "similarities2 = [cosine_similarity(vector,vec) for vector in model.vectors]\n",
    "print(np.array(model.index2word)[np.argsort(similarities2)[::-1][:10]])\n"
   ]
  },
  {
   "cell_type": "code",
   "execution_count": 111,
   "metadata": {},
   "outputs": [
    {
     "name": "stdout",
     "output_type": "stream",
     "text": [
      "[0.7528455, 0.66854715, 0.54957783, 0.53614575, 0.5351787, 0.5330226, 0.50884897, 0.5059265, 0.5040616, 0.50341094]\n"
     ]
    }
   ],
   "source": [
    "print(sorted(similarities2)[::-1][:10])"
   ]
  },
  {
   "cell_type": "markdown",
   "metadata": {},
   "source": [
    "## 64. アナロジーデータでの実験\n",
    "単語アナロジーの評価データをダウンロードし，vec(2列目の単語) - vec(1列目の単語) + vec(3列目の単語)を計算し，そのベクトルと類似度が最も高い単語と，その類似度を求めよ．求めた単語と類似度は，各事例の末尾に追記せよ．"
   ]
  },
  {
   "cell_type": "code",
   "execution_count": 121,
   "metadata": {},
   "outputs": [],
   "source": [
    "from dataclasses import dataclass\n",
    "@dataclass\n",
    "class Word:\n",
    "    word1: str = \"\"\n",
    "    word2: str = ''\n",
    "    word3: str = ''\n",
    "    word4: str = ''\n",
    "    @property\n",
    "    def vec1(self):\n",
    "        return model.get_vector(self.word1)\n",
    "    \n",
    "    @property\n",
    "    def vec2(self):\n",
    "        return model.get_vector(self.word2)\n",
    "    \n",
    "    @property\n",
    "    def vec3(self):\n",
    "        return model.get_vector(self.word3)\n",
    "    \n",
    "    @property\n",
    "    def vec4(self):\n",
    "        return model.get_vector(self.word4)\n",
    "    \n",
    "    def __repr__(self):\n",
    "        return f'{self.word1} {self.word2} {self.word3} {self.word4}'\n",
    "\n"
   ]
  },
  {
   "cell_type": "code",
   "execution_count": null,
   "metadata": {},
   "outputs": [
    {
     "name": "stdout",
     "output_type": "stream",
     "text": [
      "Greece - Athens + Baghdad , ('Baghdad', 0.7489826679229736)\n",
      "Greece - Athens + Bangkok , ('Bangkok', 0.7431141138076782)\n",
      "Greece - Athens + Beijing , ('China', 0.7186591625213623)\n",
      "Greece - Athens + Berlin , ('Germany', 0.6720892786979675)\n",
      "Greece - Athens + Bern , ('Bern', 0.6902341842651367)\n",
      "Greece - Athens + Cairo , ('Egypt', 0.7626821398735046)\n",
      "Greece - Athens + Canberra , ('Canberra', 0.7407206892967224)\n",
      "Greece - Athens + Hanoi , ('Hanoi', 0.7509901523590088)\n",
      "Greece - Athens + Havana , ('Havana', 0.7262827754020691)\n",
      "Greece - Athens + Helsinki , ('Helsinki', 0.7235296964645386)\n",
      "Greece - Athens + Islamabad , ('Islamabad', 0.7821410894393921)\n",
      "Greece - Athens + Kabul , ('Kabul', 0.7715259790420532)\n",
      "Greece - Athens + London , ('London', 0.5891345143318176)\n",
      "Greece - Athens + Madrid , ('Spain', 0.7145949006080627)\n",
      "Greece - Athens + Moscow , ('Russia', 0.7455828189849854)\n",
      "Greece - Athens + Oslo , ('Oslo', 0.7312972545623779)\n",
      "Greece - Athens + Ottawa , ('Ottawa', 0.6877975463867188)\n",
      "Greece - Athens + Paris , ('France', 0.6609892845153809)\n",
      "Greece - Athens + Rome , ('Italy', 0.685460090637207)\n",
      "Greece - Athens + Stockholm , ('Stockholm', 0.7296959161758423)\n",
      "Greece - Athens + Tehran , ('Iran', 0.8067934513092041)\n",
      "Greece - Athens + Tokyo , ('Tokyo', 0.7448469996452332)\n",
      "Iraq - Baghdad + Bangkok , ('Bangkok', 0.7216478586196899)\n",
      "Iraq - Baghdad + Beijing , ('Beijing', 0.6749864220619202)\n",
      "Iraq - Baghdad + Berlin , ('Berlin', 0.6804245710372925)\n",
      "Iraq - Baghdad + Bern , ('Bern', 0.7052913308143616)\n",
      "Iraq - Baghdad + Cairo , ('Cairo', 0.6563915014266968)\n",
      "Iraq - Baghdad + Canberra , ('Canberra', 0.7491146326065063)\n",
      "Iraq - Baghdad + Hanoi , ('Hanoi', 0.7305172085762024)\n",
      "Iraq - Baghdad + Havana , ('Havana', 0.70512455701828)\n",
      "Iraq - Baghdad + Helsinki , ('Helsinki', 0.7304091453552246)\n",
      "Iraq - Baghdad + Islamabad , ('Pakistan', 0.7500633597373962)\n",
      "Iraq - Baghdad + Kabul , ('Afghanistan', 0.7953289151191711)\n",
      "Iraq - Baghdad + London , ('London', 0.602241039276123)\n",
      "Iraq - Baghdad + Madrid , ('Madrid', 0.7033520340919495)\n",
      "Iraq - Baghdad + Moscow , ('Russia', 0.6959004402160645)\n",
      "Iraq - Baghdad + Oslo , ('Oslo', 0.7546603083610535)\n",
      "Iraq - Baghdad + Ottawa , ('Ottawa', 0.702347457408905)\n",
      "Iraq - Baghdad + Paris , ('Paris', 0.6539077758789062)\n",
      "Iraq - Baghdad + Rome , ('Rome', 0.6650422811508179)\n",
      "Iraq - Baghdad + Stockholm , ('Stockholm', 0.7224470376968384)\n",
      "Iraq - Baghdad + Tehran , ('Iran', 0.8142861723899841)\n",
      "Iraq - Baghdad + Tokyo , ('Tokyo', 0.7173745632171631)\n",
      "Iraq - Baghdad + Athens , ('Athens', 0.6883359551429749)\n",
      "Thailand - Bangkok + Beijing , ('China', 0.7940763235092163)\n",
      "Thailand - Bangkok + Berlin , ('Germany', 0.6952568888664246)\n",
      "Thailand - Bangkok + Bern , ('Bern', 0.7475197911262512)\n",
      "Thailand - Bangkok + Cairo , ('Egypt', 0.7917213439941406)\n",
      "Thailand - Bangkok + Canberra , ('Canberra', 0.7477319240570068)\n",
      "Thailand - Bangkok + Hanoi , ('Viet_Nam', 0.7639291286468506)\n",
      "Thailand - Bangkok + Havana , ('Cuba', 0.796891450881958)\n",
      "Thailand - Bangkok + Helsinki , ('Helsinki', 0.757896363735199)\n",
      "Thailand - Bangkok + Islamabad , ('Pakistan', 0.8046009540557861)\n",
      "Thailand - Bangkok + Kabul , ('Kabul', 0.7675442695617676)\n",
      "Thailand - Bangkok + London , ('Britain', 0.6129388809204102)\n",
      "Thailand - Bangkok + Madrid , ('Spain', 0.7420570850372314)\n",
      "Thailand - Bangkok + Moscow , ('Russia', 0.8440237641334534)\n",
      "Thailand - Bangkok + Oslo , ('Oslo', 0.751041054725647)\n",
      "Thailand - Bangkok + Ottawa , ('Ottawa', 0.7202551364898682)\n",
      "Thailand - Bangkok + Paris , ('France', 0.7117959260940552)\n",
      "Thailand - Bangkok + Rome , ('Rome', 0.6821672916412354)\n",
      "Thailand - Bangkok + Stockholm , ('Sweden', 0.7468709945678711)\n",
      "Thailand - Bangkok + Tehran , ('Iran', 0.8596372008323669)\n",
      "Thailand - Bangkok + Tokyo , ('Japan', 0.8093463182449341)\n",
      "Thailand - Bangkok + Athens , ('Athens', 0.716359555721283)\n",
      "Thailand - Bangkok + Baghdad , ('Baghdad', 0.7641282081604004)\n",
      "China - Beijing + Berlin , ('Berlin', 0.7787570357322693)\n",
      "China - Beijing + Bern , ('Bern', 0.8243680000305176)\n",
      "China - Beijing + Cairo , ('Cairo', 0.8068007230758667)\n",
      "China - Beijing + Canberra , ('Canberra', 0.8319714665412903)\n",
      "China - Beijing + Hanoi , ('Hanoi', 0.8451120257377625)\n",
      "China - Beijing + Havana , ('Havana', 0.8328030109405518)\n",
      "China - Beijing + Helsinki , ('Helsinki', 0.8295876979827881)\n",
      "China - Beijing + Islamabad , ('Islamabad', 0.8558628559112549)\n",
      "China - Beijing + Kabul , ('Kabul', 0.8604939579963684)\n",
      "China - Beijing + London , ('London', 0.7336541414260864)\n",
      "China - Beijing + Madrid , ('Madrid', 0.7976326942443848)\n",
      "China - Beijing + Moscow , ('Russia', 0.8496904969215393)\n",
      "China - Beijing + Oslo , ('Oslo', 0.831000030040741)\n",
      "China - Beijing + Ottawa , ('Ottawa', 0.8006221055984497)\n",
      "China - Beijing + Paris , ('Paris', 0.7601481676101685)\n",
      "China - Beijing + Rome , ('Rome', 0.779860258102417)\n",
      "China - Beijing + Stockholm , ('Stockholm', 0.8256670236587524)\n",
      "China - Beijing + Tehran , ('Tehran', 0.8628619909286499)\n",
      "China - Beijing + Tokyo , ('Tokyo', 0.8245231509208679)\n",
      "China - Beijing + Athens , ('Athens', 0.771611213684082)\n",
      "China - Beijing + Baghdad , ('Baghdad', 0.8484306931495667)\n",
      "China - Beijing + Bangkok , ('Bangkok', 0.8363481760025024)\n",
      "Germany - Berlin + Bern , ('Bern', 0.7406165599822998)\n",
      "Germany - Berlin + Cairo , ('Cairo', 0.7379903793334961)\n",
      "Germany - Berlin + Canberra , ('Canberra', 0.8064034581184387)\n",
      "Germany - Berlin + Hanoi , ('Hanoi', 0.8049991130828857)\n",
      "Germany - Berlin + Havana , ('Havana', 0.7691328525543213)\n",
      "Germany - Berlin + Helsinki , ('Helsinki', 0.7901307344436646)\n",
      "Germany - Berlin + Islamabad , ('Islamabad', 0.81545090675354)\n",
      "Germany - Berlin + Kabul , ('Kabul', 0.8141441345214844)\n",
      "Germany - Berlin + London , ('UK', 0.6453256607055664)\n",
      "Germany - Berlin + Madrid , ('Spain', 0.7713854312896729)\n",
      "Germany - Berlin + Moscow , ('Russia', 0.8176714181900024)\n",
      "Germany - Berlin + Oslo , ('Oslo', 0.7737475633621216)\n",
      "Germany - Berlin + Ottawa , ('Ottawa', 0.7458409070968628)\n",
      "Germany - Berlin + Paris , ('France', 0.7724405527114868)\n",
      "Germany - Berlin + Rome , ('Italy', 0.7343893647193909)\n",
      "Germany - Berlin + Stockholm , ('Sweden', 0.7960728406906128)\n",
      "Germany - Berlin + Tehran , ('Tehran', 0.8318794965744019)\n",
      "Germany - Berlin + Tokyo , ('Japan', 0.8013877868652344)\n",
      "Germany - Berlin + Athens , ('Athens', 0.7191399931907654)\n",
      "Germany - Berlin + Baghdad , ('Baghdad', 0.8146638870239258)\n",
      "Germany - Berlin + Bangkok , ('Bangkok', 0.7957086563110352)\n",
      "Germany - Berlin + Beijing , ('China', 0.7808266878128052)\n",
      "Switzerland - Bern + Cairo , ('Cairo', 0.6299501657485962)\n",
      "Switzerland - Bern + Canberra , ('Canberra', 0.7265487909317017)\n",
      "Switzerland - Bern + Hanoi , ('Hanoi', 0.7142649292945862)\n",
      "Switzerland - Bern + Havana , ('Havana', 0.6711639165878296)\n",
      "Switzerland - Bern + Helsinki , ('Helsinki', 0.7343817949295044)\n",
      "Switzerland - Bern + Islamabad , ('Islamabad', 0.7136886119842529)\n",
      "Switzerland - Bern + Kabul , ('Kabul', 0.7211526036262512)\n",
      "Switzerland - Bern + London , ('London', 0.611396074295044)\n",
      "Switzerland - Bern + Madrid , ('Madrid', 0.6865501403808594)\n",
      "Switzerland - Bern + Moscow , ('Moscow', 0.6645195484161377)\n",
      "Switzerland - Bern + Oslo , ('Oslo', 0.7214195728302002)\n",
      "Switzerland - Bern + Ottawa , ('Ottawa', 0.6489711999893188)\n",
      "Switzerland - Bern + Paris , ('Paris', 0.6419802308082581)\n",
      "Switzerland - Bern + Rome , ('Italy', 0.6215108633041382)\n",
      "Switzerland - Bern + Stockholm , ('Stockholm', 0.71843421459198)\n",
      "Switzerland - Bern + Tehran , ('Iran', 0.7353845238685608)\n",
      "Switzerland - Bern + Tokyo , ('Tokyo', 0.7072820663452148)\n",
      "Switzerland - Bern + Athens , ('Athens', 0.6027538776397705)\n",
      "Switzerland - Bern + Baghdad , ('Baghdad', 0.7058637738227844)\n",
      "Switzerland - Bern + Bangkok , ('Bangkok', 0.7172478437423706)\n",
      "Switzerland - Bern + Beijing , ('Beijing', 0.6710091829299927)\n",
      "Switzerland - Bern + Berlin , ('Germany', 0.6830376386642456)\n",
      "Egypt - Cairo + Canberra , ('Canberra', 0.7517479658126831)\n",
      "Egypt - Cairo + Hanoi , ('Viet_Nam', 0.7727400660514832)\n",
      "Egypt - Cairo + Havana , ('Cuba', 0.7743473649024963)\n",
      "Egypt - Cairo + Helsinki , ('Helsinki', 0.7475990056991577)\n",
      "Egypt - Cairo + Islamabad , ('Pakistan', 0.829352617263794)\n",
      "Egypt - Cairo + Kabul , ('Kabul', 0.7731524705886841)\n",
      "Egypt - Cairo + London , ('London', 0.6300549507141113)\n",
      "Egypt - Cairo + Madrid , ('Spain', 0.7408467531204224)\n"
     ]
    },
    {
     "name": "stdout",
     "output_type": "stream",
     "text": [
      "Egypt - Cairo + Moscow , ('Russia', 0.8410959243774414)\n",
      "Egypt - Cairo + Oslo , ('Oslo', 0.748042106628418)\n",
      "Egypt - Cairo + Ottawa , ('Ottawa', 0.7176220417022705)\n",
      "Egypt - Cairo + Paris , ('France', 0.6924591660499573)\n",
      "Egypt - Cairo + Rome , ('Italy', 0.6706969738006592)\n",
      "Egypt - Cairo + Stockholm , ('Sweden', 0.7424593567848206)\n",
      "Egypt - Cairo + Tehran , ('Iran', 0.8797544240951538)\n",
      "Egypt - Cairo + Tokyo , ('Japan', 0.7807725071907043)\n",
      "Egypt - Cairo + Athens , ('Greece', 0.7239887714385986)\n",
      "Egypt - Cairo + Baghdad , ('Baghdad', 0.7566509246826172)\n",
      "Egypt - Cairo + Bangkok , ('Thailand', 0.8332600593566895)\n",
      "Egypt - Cairo + Beijing , ('China', 0.7976171970367432)\n",
      "Egypt - Cairo + Berlin , ('Germany', 0.6881570816040039)\n",
      "Egypt - Cairo + Bern , ('Bern', 0.7276052832603455)\n",
      "Australia - Canberra + Hanoi , ('Hanoi', 0.7349317073822021)\n",
      "Australia - Canberra + Havana , ('Havana', 0.7401776313781738)\n",
      "Australia - Canberra + Helsinki , ('Helsinki', 0.7440007328987122)\n",
      "Australia - Canberra + Islamabad , ('Pakistan', 0.7668275833129883)\n",
      "Australia - Canberra + Kabul , ('Kabul', 0.7651958465576172)\n",
      "Australia - Canberra + London , ('London', 0.6495606899261475)\n",
      "Australia - Canberra + Madrid , ('Madrid', 0.7260809540748596)\n",
      "Australia - Canberra + Moscow , ('Russia', 0.7589836120605469)\n",
      "Australia - Canberra + Oslo , ('Oslo', 0.7410455346107483)\n",
      "Australia - Canberra + Ottawa , ('Canada', 0.6889721751213074)\n",
      "Australia - Canberra + Paris , ('Paris', 0.6672095060348511)\n",
      "Australia - Canberra + Rome , ('Rome', 0.6654658913612366)\n",
      "Australia - Canberra + Stockholm , ('Stockholm', 0.7426413297653198)\n",
      "Australia - Canberra + Tehran , ('Iran', 0.7831374406814575)\n",
      "Australia - Canberra + Tokyo , ('Tokyo', 0.7324683666229248)\n",
      "Australia - Canberra + Athens , ('Athens', 0.6913225650787354)\n",
      "Australia - Canberra + Baghdad , ('Baghdad', 0.7570333480834961)\n",
      "Australia - Canberra + Bangkok , ('Bangkok', 0.7247731685638428)\n",
      "Australia - Canberra + Beijing , ('China', 0.7471266984939575)\n",
      "Australia - Canberra + Berlin , ('Berlin', 0.6984497308731079)\n",
      "Australia - Canberra + Bern , ('Bern', 0.7233468294143677)\n",
      "Australia - Canberra + Cairo , ('Cairo', 0.6906017065048218)\n",
      "Vietnam - Hanoi + Havana , ('Havana', 0.6827735304832458)\n",
      "Vietnam - Hanoi + Helsinki , ('Helsinki', 0.6600596904754639)\n",
      "Vietnam - Hanoi + Islamabad , ('Pakistan', 0.7244973182678223)\n",
      "Vietnam - Hanoi + Kabul , ('Afghanistan', 0.7535971403121948)\n",
      "Vietnam - Hanoi + London , ('London', 0.5594706535339355)\n",
      "Vietnam - Hanoi + Madrid , ('Madrid', 0.6369274854660034)\n",
      "Vietnam - Hanoi + Moscow , ('Russia', 0.6619590520858765)\n",
      "Vietnam - Hanoi + Oslo , ('Oslo', 0.690427839756012)\n",
      "Vietnam - Hanoi + Ottawa , ('Ottawa', 0.6625832915306091)\n",
      "Vietnam - Hanoi + Paris , ('Paris', 0.5750533938407898)\n",
      "Vietnam - Hanoi + Rome , ('Rome', 0.6193781495094299)\n",
      "Vietnam - Hanoi + Stockholm , ('Stockholm', 0.6479752063751221)\n",
      "Vietnam - Hanoi + Tehran , ('Iran', 0.7679680585861206)\n",
      "Vietnam - Hanoi + Tokyo , ('Japan', 0.6640956401824951)\n",
      "Vietnam - Hanoi + Athens , ('Athens', 0.6692329049110413)\n",
      "Vietnam - Hanoi + Baghdad , ('Iraq', 0.7691277265548706)\n",
      "Vietnam - Hanoi + Bangkok , ('Thailand', 0.6778936386108398)\n",
      "Vietnam - Hanoi + Beijing , ('China', 0.6701151728630066)\n"
     ]
    }
   ],
   "source": [
    "import csv\n",
    "\n",
    "with open('files/evaluate-words.txt') as f:\n",
    "    # headerは飛ばす\n",
    "    f.readline()\n",
    "    reader = csv.DictReader(f,delimiter=' ',fieldnames=['word1','word2','word3','word4',])\n",
    "    for row in reader:\n",
    "        word = Word(row['word1'],row['word2'],row['word3'],row['word4'])\n",
    "        vec = word.vec2 - word.vec1 + word.vec3\n",
    "        print(f\"{word.word2} - {word.word1} + {word.word3} , {model.similar_by_vector(vec,topn=1)[0]}\")\n"
   ]
  },
  {
   "cell_type": "markdown",
   "metadata": {},
   "source": [
    "## 65. アナロジータスクでの正解率\n",
    "64の実行結果を用い，意味的アナロジー（semantic analogy）と文法的アナロジー（syntactic analogy）の正解率を測定せよ．"
   ]
  },
  {
   "cell_type": "code",
   "execution_count": null,
   "metadata": {},
   "outputs": [],
   "source": []
  },
  {
   "cell_type": "markdown",
   "metadata": {},
   "source": [
    "## 66. WordSimilarity-353での評価\n",
    "The WordSimilarity-353 Test Collectionの評価データをダウンロードし，単語ベクトルにより計算される類似度のランキングと，人間の類似度判定のランキングの間のスピアマン相関係数を計算せよ．"
   ]
  },
  {
   "cell_type": "code",
   "execution_count": null,
   "metadata": {},
   "outputs": [],
   "source": []
  },
  {
   "cell_type": "markdown",
   "metadata": {},
   "source": [
    "## 67. k-meansクラスタリング\n",
    "国名に関する単語ベクトルを抽出し，k-meansクラスタリングをクラスタ数k=5として実行せよ．"
   ]
  },
  {
   "cell_type": "code",
   "execution_count": null,
   "metadata": {},
   "outputs": [],
   "source": []
  },
  {
   "cell_type": "markdown",
   "metadata": {},
   "source": [
    "## 68. Ward法によるクラスタリング\n",
    "国名に関する単語ベクトルに対し，Ward法による階層型クラスタリングを実行せよ．さらに，クラスタリング結果をデンドログラムとして可視化せよ．"
   ]
  },
  {
   "cell_type": "code",
   "execution_count": null,
   "metadata": {},
   "outputs": [],
   "source": []
  },
  {
   "cell_type": "markdown",
   "metadata": {},
   "source": [
    "## 69. t-SNEによる可視化\n",
    "ベクトル空間上の国名に関する単語ベクトルをt-SNEで可視化せよ．"
   ]
  },
  {
   "cell_type": "code",
   "execution_count": null,
   "metadata": {},
   "outputs": [],
   "source": []
  }
 ],
 "metadata": {
  "kernelspec": {
   "display_name": "Python 3.8.2 64-bit ('nlp-100-knocks-2020-UTXiV_Xd-py3.8': venv)",
   "language": "python",
   "name": "python38264bitnlp100knocks2020utxivxdpy38venv6f1bdc414e1c42079574c87f4d492959"
  },
  "language_info": {
   "codemirror_mode": {
    "name": "ipython",
    "version": 3
   },
   "file_extension": ".py",
   "mimetype": "text/x-python",
   "name": "python",
   "nbconvert_exporter": "python",
   "pygments_lexer": "ipython3",
   "version": "3.8.2"
  }
 },
 "nbformat": 4,
 "nbformat_minor": 4
}

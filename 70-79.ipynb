{
 "cells": [
  {
   "cell_type": "markdown",
   "metadata": {},
   "source": [
    "# 第8章: ニューラルネット\n",
    "第6章で取り組んだニュース記事のカテゴリ分類を題材として，ニューラルネットワークでカテゴリ分類モデルを実装する．なお，この章ではPyTorch, TensorFlow, Chainerなどの機械学習プラットフォームを活用せよ．"
   ]
  },
  {
   "cell_type": "markdown",
   "metadata": {},
   "source": [
    "## 70. 単語ベクトルの和による特徴量\n",
    "問題50で構築した学習データ，検証データ，評価データを行列・ベクトルに変換したい．例えば，学習データについて，すべての事例$x_i$の特徴ベクトル$x_i$を並べた行列$X$と，正解ラベルを並べた行列（ベクトル）$Y$を作成したい．\n",
    "$$$\n",
    "X = \\begin{pmatrix} \n",
    "  \\boldsymbol{x}_1 \\\\ \n",
    "  \\boldsymbol{x}_2 \\\\ \n",
    "  \\dots \\\\ \n",
    "  \\boldsymbol{x}_n \\\\ \n",
    "\\end{pmatrix} \\in \\mathbb{R}^{n \\times d},\n",
    "Y = \\begin{pmatrix} \n",
    "  y_1 \\\\ \n",
    "  y_2 \\\\ \n",
    "  \\dots \\\\ \n",
    "  y_n \\\\ \n",
    "\\end{pmatrix} \\in \\mathbb{N}^{n}\n",
    "$$$\n",
    "ここで，$n$は学習データの事例数であり，$x_i \\in R^d$とyi∈ℕはそれぞれ，i∈{1,…,n}番目の事例の特徴量ベクトルと正解ラベルを表す． なお，今回は「ビジネス」「科学技術」「エンターテイメント」「健康」の4カテゴリ分類である．ℕ<4で4未満の自然数（0を含む）を表すことにすれば，任意の事例の正解ラベルyiはyi∈ℕ<4で表現できる． 以降では，ラベルの種類数をLで表す（今回の分類タスクではL=4である）．\n",
    "\n",
    "i番目の事例の特徴ベクトルxiは，次式で求める．\n",
    "\n",
    "$$\n",
    "\\boldsymbol{x}_i = \\frac{1}{T_i} \\sum_{t=1}^{T_i} \\mathrm{emb}(w_{i,t})\n",
    "$$\n",
    "ここで，i番目の事例はTi個の（記事見出しの）単語列(wi,1,wi,2,…,wi,Ti)から構成され，emb(w)∈ℝdは単語wに対応する単語ベクトル（次元数はd）である．すなわち，i番目の事例の記事見出しを，その見出しに含まれる単語のベクトルの平均で表現したものがxiである．今回は単語ベクトルとして，問題60でダウンロードしたものを用いればよい．300次元の単語ベクトルを用いたので，d=300である．\n",
    "\n",
    "i番目の事例のラベルyiは，次のように定義する．\n",
    "$$\n",
    "% <![CDATA[\n",
    "y_i = \\begin{cases}\n",
    "0 & (\\mbox{記事}x_i\\mbox{が「ビジネス」カテゴリの場合}) \\\\\n",
    "1 & (\\mbox{記事}x_i\\mbox{が「科学技術」カテゴリの場合}) \\\\\n",
    "2 & (\\mbox{記事}x_i\\mbox{が「エンターテイメント」カテゴリの場合}) \\\\\n",
    "3 & (\\mbox{記事}x_i\\mbox{が「健康」カテゴリの場合}) \\\\\n",
    "\\end{cases} %]]>\n",
    "$$\n",
    "\n",
    "なお，カテゴリ名とラベルの番号が一対一で対応付いていれば，上式の通りの対応付けでなくてもよい．\n",
    "\n",
    "以上の仕様に基づき，以下の行列・ベクトルを作成し，ファイルに保存せよ．\n",
    "\n",
    "- 学習データの特徴量行列: Xtrain∈ℝNt×d\n",
    "- 学習データのラベルベクトル: Ytrain∈ℕNt\n",
    "- 検証データの特徴量行列: Xvalid∈ℝNv×d\n",
    "- 検証データのラベルベクトル: Yvalid∈ℕNv\n",
    "- 評価データの特徴量行列: Xtest∈ℝNe×d\n",
    "- 評価データのラベルベクトル: Ytest∈ℕNe\n",
    "\n",
    "なお，Nt,Nv,Neはそれぞれ，学習データの事例数，検証データの事例数，評価データの事例数である．"
   ]
  },
  {
   "cell_type": "code",
   "execution_count": 35,
   "metadata": {
    "scrolled": true
   },
   "outputs": [],
   "source": [
    "from gensim.models import Word2Vec\n",
    "from gensim.models import KeyedVectors\n",
    "import numpy as np\n",
    "\n",
    "# word2becモデル読み込み\n",
    "model = KeyedVectors.load_word2vec_format('files/GoogleNews-vectors-negative300.bin', binary=True)\n",
    "\n",
    "\n",
    "from functools import lru_cache\n",
    "\n",
    "@lru_cache(maxsize=None)\n",
    "def get_vector(word):\n",
    "    return model.get_vector(word)\n",
    "\n",
    "def sentence2vec(text):\n",
    "    \"\"\"\n",
    "    文字列を単語分割→ word2vecでベクトル化した平均を取る\n",
    "    英単語想定\n",
    "    \"\"\"\n",
    "    # 前処理\n",
    "    preprocessed_text = text.replace('\"','').replace('-','').replace(';','').replace(',','').replace('.','')\n",
    "    words = preprocessed_text.split(' ')\n",
    "    result_vec = np.zeros((1,300))\n",
    "    \n",
    "    n_error = 0\n",
    "    for word in words:\n",
    "        try:\n",
    "#             result_vec += model.get_vector(word)\n",
    "            result_vec += get_vector(word)\n",
    "        except:\n",
    "            n_error += 1\n",
    "            \n",
    "    result_vec = result_vec/n_valid_words if (n_valid_words :=(len(words) - n_error)) != 0 else result_vec\n",
    "    return result_vec"
   ]
  },
  {
   "cell_type": "code",
   "execution_count": 48,
   "metadata": {},
   "outputs": [
    {
     "name": "stdout",
     "output_type": "stream",
     "text": [
      "train_y:(10684,)\n",
      "train_X:(10684, 300)\n",
      "CPU times: user 1.33 s, sys: 1.87 s, total: 3.2 s\n",
      "Wall time: 6.83 s\n"
     ]
    }
   ],
   "source": [
    "%%time\n",
    "import csv\n",
    "\n",
    "\n",
    "\n",
    "train_path = 'files/train.txt'\n",
    "train_y = []\n",
    "train_X = []\n",
    "\n",
    "with open(train_path) as f:\n",
    "    reader = csv.DictReader(f,fieldnames=['label','sentense'],delimiter='\\t')\n",
    "    for row in reader:\n",
    "        train_y.append(int(row['label']))\n",
    "        train_X.append(sentence2vec(row['sentense']))\n",
    "\n",
    "train_y = np.array(train_y)\n",
    "train_X = np.vstack(train_X)\n",
    "print(f'train_y:{train_y.shape}\\ntrain_X:{train_X.shape}')\n",
    "    \n",
    "\n"
   ]
  },
  {
   "cell_type": "code",
   "execution_count": 49,
   "metadata": {},
   "outputs": [
    {
     "name": "stdout",
     "output_type": "stream",
     "text": [
      "valid_y:(1336,)\n",
      "valid_X:(1336, 300)\n",
      "CPU times: user 129 ms, sys: 88.9 ms, total: 218 ms\n",
      "Wall time: 376 ms\n"
     ]
    }
   ],
   "source": [
    "%%time \n",
    "\n",
    "valid_path = 'files/valid.txt'\n",
    "valid_y = []\n",
    "valid_X = []\n",
    "\n",
    "with open(valid_path) as f:\n",
    "    reader = csv.DictReader(f,fieldnames=['label','sentense'],delimiter='\\t')\n",
    "    for row in reader:\n",
    "        valid_y.append(int(row['label']))\n",
    "        valid_X.append(sentence2vec(row['sentense']))\n",
    "\n",
    "valid_y = np.array(valid_y)\n",
    "valid_X = np.vstack(valid_X)\n",
    "print(f'valid_y:{valid_y.shape}\\nvalid_X:{valid_X.shape}')"
   ]
  },
  {
   "cell_type": "code",
   "execution_count": 50,
   "metadata": {},
   "outputs": [
    {
     "name": "stdout",
     "output_type": "stream",
     "text": [
      "test_y:(1336,)\n",
      "test_X:(1336, 300)\n",
      "CPU times: user 130 ms, sys: 81.6 ms, total: 212 ms\n",
      "Wall time: 324 ms\n"
     ]
    }
   ],
   "source": [
    "%%time\n",
    "import csv\n",
    "\n",
    "\n",
    "\n",
    "test_path = 'files/test.txt'\n",
    "test_y = []\n",
    "test_X = []\n",
    "\n",
    "with open(test_path) as f:\n",
    "    reader = csv.DictReader(f,fieldnames=['label','sentense'],delimiter='\\t')\n",
    "    for row in reader:\n",
    "        test_y.append(int(row['label']))\n",
    "        test_X.append(sentence2vec(row['sentense']))\n",
    "\n",
    "test_y = np.array(test_y)\n",
    "test_X = np.vstack(test_X)\n",
    "print(f'test_y:{test_y.shape}\\ntest_X:{test_X.shape}')\n",
    "\n"
   ]
  },
  {
   "cell_type": "markdown",
   "metadata": {},
   "source": [
    "## 71. 単層ニューラルネットワークによる予測\n",
    "問題70で保存した行列を読み込み，学習データについて以下の計算を実行せよ．\n",
    "\n",
    "$$ \\hat{\\boldsymbol{y}}_1 = {\\rm softmax}(\\boldsymbol{x}_1 W),$$\n",
    "$$ \\hat{Y} = {\\rm softmax}(X_{[1:4]} W)$$ \n",
    "\n",
    "ただし，softmax\n",
    "はソフトマックス関数，$X_{[1:4]} \\in \\mathbb{R}^{4 \\times d}$\n",
    "は特徴ベクトル$x_1,x_2,x_3,x_4$\n",
    "を縦に並べた行列である．\n",
    "\n",
    "行列$W \\in \\mathbb{R}^{d \\times L}$\n",
    "は単層ニューラルネットワークの重み行列で，ここではランダムな値で初期化すればよい（問題73以降で学習して求める）．なお，$\\hat{\\boldsymbol{y}}_1 \\in \\mathbb{R}^L$\n",
    "は未学習の行列$W$\n",
    "で事例$x_1$\n",
    "を分類したときに，各カテゴリに属する確率を表すベクトルである． 同様に，$ \\hat{Y} \\in \\mathbb{R}^{n \\times L}$\n",
    "は，学習データの事例$x_1,x_2,x_3,x_4$\n",
    "について，各カテゴリに属する確率を行列として表現している．\n",
    "\n"
   ]
  },
  {
   "cell_type": "code",
   "execution_count": 39,
   "metadata": {},
   "outputs": [],
   "source": [
    "import torch #基本モジュール\n",
    "from torch.autograd import Variable #自動微分用\n",
    "import torch.nn as nn #ネットワーク構築用\n",
    "import torch.optim as optim #最適化関数\n",
    "import torch.nn.functional as F #ネットワーク用の様々な関数"
   ]
  },
  {
   "cell_type": "code",
   "execution_count": 208,
   "metadata": {},
   "outputs": [],
   "source": [
    "train = torch.utils.data.TensorDataset(torch.from_numpy(train_X), torch.from_numpy(train_y))\n",
    "train_loader = torch.utils.data.DataLoader(train, batch_size=100, shuffle=True)\n",
    "test = torch.utils.data.TensorDataset(torch.from_numpy(test_X), torch.from_numpy(test_y))\n",
    "valid = torch.utils.data.TensorDataset(torch.from_numpy(valid_X), torch.from_numpy(valid_y))\n"
   ]
  },
  {
   "cell_type": "code",
   "execution_count": 93,
   "metadata": {},
   "outputs": [
    {
     "data": {
      "text/plain": [
       "Net(\n",
       "  (fc1): Linear(in_features=300, out_features=4, bias=True)\n",
       ")"
      ]
     },
     "execution_count": 93,
     "metadata": {},
     "output_type": "execute_result"
    }
   ],
   "source": [
    "class Net(nn.Module):\n",
    "    def __init__(self):\n",
    "        super().__init__()\n",
    "        self.fc1 = nn.Linear(300,4)\n",
    "\n",
    "    def forward(self, x):\n",
    "        x = self.fc1(x)\n",
    "        x = F.softmax(x,dim=-1)\n",
    "        return x"
   ]
  },
  {
   "cell_type": "code",
   "execution_count": 97,
   "metadata": {},
   "outputs": [
    {
     "name": "stdout",
     "output_type": "stream",
     "text": [
      "Net(\n",
      "  (fc1): Linear(in_features=300, out_features=4, bias=True)\n",
      ")\n",
      "[Parameter containing:\n",
      "tensor([[ 0.0451, -0.0102,  0.0102,  ..., -0.0080, -0.0556, -0.0337],\n",
      "        [-0.0302,  0.0146, -0.0323,  ...,  0.0185,  0.0107,  0.0139],\n",
      "        [ 0.0523, -0.0566,  0.0192,  ..., -0.0006,  0.0544,  0.0084],\n",
      "        [-0.0511, -0.0249,  0.0241,  ...,  0.0175,  0.0467, -0.0072]],\n",
      "       requires_grad=True), Parameter containing:\n",
      "tensor([-0.0221, -0.0443, -0.0551, -0.0533], requires_grad=True)]\n"
     ]
    }
   ],
   "source": [
    "model = Net()\n",
    "print(model)\n",
    "print(list(model.parameters()))"
   ]
  },
  {
   "cell_type": "code",
   "execution_count": 94,
   "metadata": {},
   "outputs": [
    {
     "data": {
      "text/plain": [
       "tensor([0.2586, 0.2599, 0.2422, 0.2394], grad_fn=<SoftmaxBackward>)"
      ]
     },
     "execution_count": 94,
     "metadata": {},
     "output_type": "execute_result"
    }
   ],
   "source": [
    "# x0のpredict\n",
    "x0 , y0 = train[0]\n",
    "pred = model(x0.float())\n",
    "pred"
   ]
  },
  {
   "cell_type": "code",
   "execution_count": 99,
   "metadata": {},
   "outputs": [
    {
     "data": {
      "text/plain": [
       "tensor([[0.2715, 0.2510, 0.2437, 0.2338],\n",
       "        [0.2595, 0.2567, 0.2400, 0.2438],\n",
       "        [0.2544, 0.2525, 0.2440, 0.2491],\n",
       "        [0.2623, 0.2477, 0.2481, 0.2419]], grad_fn=<SoftmaxBackward>)"
      ]
     },
     "execution_count": 99,
     "metadata": {},
     "output_type": "execute_result"
    }
   ],
   "source": [
    "# x0~3のpredict\n",
    "X0_3, y0_3 = train[:4]\n",
    "pred = model(X0_3.float())\n",
    "pred"
   ]
  },
  {
   "cell_type": "markdown",
   "metadata": {},
   "source": [
    "## 72. 損失と勾配の計算\n",
    "学習データの事例$x_1$\n",
    "と事例集合$x_1,x_2,x_3,x_4$\n",
    "に対して，クロスエントロピー損失と，行列$W$\n",
    "に対する勾配を計算せよ．なお，ある事例$x_i$\n",
    "に対して損失は次式で計算される．\n",
    "\n",
    "$$ l_i = - \\log [\\mbox{事例}x_i\\mbox{が}y_i\\mbox{に分類される確率}]$$\n",
    "\n",
    "ただし，事例集合に対するクロスエントロピー損失は，その集合に含まれる各事例の損失の平均とする．"
   ]
  },
  {
   "cell_type": "code",
   "execution_count": 143,
   "metadata": {},
   "outputs": [
    {
     "name": "stdout",
     "output_type": "stream",
     "text": [
      "tensor([[0.2715, 0.2510, 0.2437, 0.2338]], grad_fn=<ViewBackward>)\n",
      "tensor([2])\n"
     ]
    },
    {
     "data": {
      "text/plain": [
       "tensor(1.3927, grad_fn=<NllLossBackward>)"
      ]
     },
     "execution_count": 143,
     "metadata": {},
     "output_type": "execute_result"
    }
   ],
   "source": [
    "#Loss関数の指定\n",
    "criterion = nn.CrossEntropyLoss()\n",
    "\n",
    "#一連の流れ\n",
    "pred = model(x0.float())\n",
    "print(pred.reshape(1,-1))\n",
    "print(y0.reshape(1,))\n",
    "#ここでラベルデータに対するCross-Entropyがとられる\n",
    "loss = criterion(pred.reshape(1,-1), y0.reshape(1,))\n",
    "loss"
   ]
  },
  {
   "cell_type": "code",
   "execution_count": 156,
   "metadata": {},
   "outputs": [
    {
     "name": "stdout",
     "output_type": "stream",
     "text": [
      "tensor([[0.2715, 0.2510, 0.2437, 0.2338],\n",
      "        [0.2595, 0.2567, 0.2400, 0.2438],\n",
      "        [0.2544, 0.2525, 0.2440, 0.2491],\n",
      "        [0.2623, 0.2477, 0.2481, 0.2419]], grad_fn=<SoftmaxBackward>)\n",
      "tensor([2, 0, 2, 0])\n"
     ]
    },
    {
     "data": {
      "text/plain": [
       "tensor(1.3839, grad_fn=<NllLossBackward>)"
      ]
     },
     "execution_count": 156,
     "metadata": {},
     "output_type": "execute_result"
    }
   ],
   "source": [
    "#Loss関数の指定\n",
    "criterion = nn.CrossEntropyLoss()\n",
    "\n",
    "#一連の流れ\n",
    "pred = model(X0_3.float())\n",
    "print(pred)\n",
    "print(y0_3)\n",
    "#ここでラベルデータに対するCross-Entropyがとられる\n",
    "loss = criterion(pred, y0_3)\n",
    "loss"
   ]
  },
  {
   "cell_type": "markdown",
   "metadata": {},
   "source": [
    "## 73. 確率的勾配降下法による学習\n",
    "確率的勾配降下法（SGD: Stochastic Gradient Descent）を用いて，行列$W$\n",
    "を学習せよ．なお，学習は適当な基準で終了させればよい（例えば「100エポックで終了」など）．"
   ]
  },
  {
   "cell_type": "code",
   "execution_count": 182,
   "metadata": {
    "scrolled": true
   },
   "outputs": [
    {
     "name": "stdout",
     "output_type": "stream",
     "text": [
      "epoch:0 ave_loss:1.224206805229187\n",
      "epoch:1 ave_loss:1.221551537513733\n",
      "epoch:2 ave_loss:1.2189805507659912\n",
      "epoch:3 ave_loss:1.2164584398269653\n",
      "epoch:4 ave_loss:1.2139328718185425\n",
      "epoch:5 ave_loss:1.2114380598068237\n",
      "epoch:6 ave_loss:1.209043264389038\n",
      "epoch:7 ave_loss:1.2065529823303223\n",
      "epoch:8 ave_loss:1.204145908355713\n",
      "epoch:9 ave_loss:1.2017842531204224\n",
      "epoch:10 ave_loss:1.1994602680206299\n",
      "epoch:11 ave_loss:1.1971625089645386\n",
      "epoch:12 ave_loss:1.1949009895324707\n",
      "epoch:13 ave_loss:1.1926612854003906\n",
      "epoch:14 ave_loss:1.1904484033584595\n",
      "epoch:15 ave_loss:1.188302755355835\n",
      "epoch:16 ave_loss:1.1861532926559448\n",
      "epoch:17 ave_loss:1.1840252876281738\n",
      "epoch:18 ave_loss:1.182041883468628\n",
      "epoch:19 ave_loss:1.1799561977386475\n",
      "epoch:20 ave_loss:1.1779520511627197\n",
      "epoch:21 ave_loss:1.1759485006332397\n",
      "epoch:22 ave_loss:1.1739140748977661\n",
      "epoch:23 ave_loss:1.1719497442245483\n",
      "epoch:24 ave_loss:1.1700948476791382\n",
      "epoch:25 ave_loss:1.1682766675949097\n",
      "epoch:26 ave_loss:1.166313648223877\n",
      "epoch:27 ave_loss:1.1645290851593018\n",
      "epoch:28 ave_loss:1.1627119779586792\n",
      "epoch:29 ave_loss:1.160983920097351\n",
      "epoch:30 ave_loss:1.1591891050338745\n",
      "epoch:31 ave_loss:1.1574122905731201\n",
      "epoch:32 ave_loss:1.1557388305664062\n",
      "epoch:33 ave_loss:1.1540831327438354\n",
      "epoch:34 ave_loss:1.1524375677108765\n",
      "epoch:35 ave_loss:1.150808334350586\n",
      "epoch:36 ave_loss:1.1492336988449097\n",
      "epoch:37 ave_loss:1.1476547718048096\n",
      "epoch:38 ave_loss:1.1460906267166138\n",
      "epoch:39 ave_loss:1.1445419788360596\n",
      "epoch:40 ave_loss:1.1430109739303589\n",
      "epoch:41 ave_loss:1.14153254032135\n",
      "epoch:42 ave_loss:1.1400846242904663\n",
      "epoch:43 ave_loss:1.1386070251464844\n",
      "epoch:44 ave_loss:1.137120008468628\n",
      "epoch:45 ave_loss:1.1357594728469849\n",
      "epoch:46 ave_loss:1.1343148946762085\n",
      "epoch:47 ave_loss:1.1329630613327026\n",
      "epoch:48 ave_loss:1.1315752267837524\n",
      "epoch:49 ave_loss:1.13033127784729\n"
     ]
    }
   ],
   "source": [
    "criterion = nn.CrossEntropyLoss()\n",
    "optimizer = torch.optim.SGD(model.parameters(), lr=0.003)\n",
    "model = Net()\n",
    "for epoch in range(50):  # loop over the dataset multiple times\n",
    "    running_loss = 0.0 \n",
    "    for i, data in enumerate(train_loader):\n",
    "        inputs, labels = data\n",
    "        inputs, labels = Variable(inputs.float()), Variable(labels)\n",
    "        optimizer.zero_grad()\n",
    "        outputs = model(inputs)\n",
    "        loss = criterion(outputs, labels)\n",
    "        loss.backward()\n",
    "        optimizer.step()\n",
    "        running_loss += loss.data\n",
    "    print(f\"epoch:{epoch} ave_loss:{running_loss/(i+1)}\")"
   ]
  },
  {
   "cell_type": "markdown",
   "metadata": {},
   "source": [
    "## 74. 正解率の計測\n",
    "問題73で求めた行列を用いて学習データおよび評価データの事例を分類したとき，その正解率をそれぞれ求めよ．"
   ]
  },
  {
   "cell_type": "code",
   "execution_count": 206,
   "metadata": {},
   "outputs": [
    {
     "name": "stdout",
     "output_type": "stream",
     "text": [
      "train acc: 0.7803257207038562\n",
      "test acc: 0.7791916167664671\n"
     ]
    }
   ],
   "source": [
    "from sklearn.metrics import accuracy_score\n",
    "# train\n",
    "t_X, t_y = train[:]\n",
    "print(f'train acc: {accuracy_score(t_y,np.argmax(model(t_X.float()).data,axis=1))}')\n",
    "\n",
    "# test\n",
    "t_X, t_y = test[:]\n",
    "print(f'test acc: {accuracy_score(t_y,np.argmax(model(t_X.float()).data,axis=1))}')"
   ]
  },
  {
   "cell_type": "markdown",
   "metadata": {},
   "source": [
    "## 75. 損失と正解率のプロット\n",
    "問題73のコードを改変し，各エポックのパラメータ更新が完了するたびに，訓練データでの損失，正解率，検証データでの損失，正解率をグラフにプロットし，学習の進捗状況を確認できるようにせよ．"
   ]
  },
  {
   "cell_type": "code",
   "execution_count": 274,
   "metadata": {},
   "outputs": [],
   "source": [
    "from dataclasses import dataclass\n",
    "import  matplotlib.pyplot as plt\n",
    "\n",
    "@dataclass\n",
    "class FitHistory:\n",
    "    loss_list :list\n",
    "    acc_train_list: list\n",
    "    acc_valid_list: list\n",
    "    def plot(self):\n",
    "        plt.ylabel('loss')\n",
    "        plt.xlabel('epoch')\n",
    "        plt.plot(range(len(self.loss_list)),self.loss_list,label='loss')\n",
    "        plt.plot(range(len(self.acc_train_list)),self.acc_train_list,label='train acc')\n",
    "        plt.plot(range(len(self.acc_valid_list)),self.acc_valid_list,label='valid acc')\n",
    "        plt.legend()\n",
    "        plt.show()\n",
    "        plt.close()\n",
    "        time.sleep(10)\n",
    "    \n"
   ]
  },
  {
   "cell_type": "code",
   "execution_count": 258,
   "metadata": {
    "scrolled": true
   },
   "outputs": [
    {
     "name": "stderr",
     "output_type": "stream",
     "text": [
      "100%|██████████| 50/50 [00:11<00:00,  4.32it/s]\n"
     ]
    },
    {
     "data": {
      "image/png": "[encoded data removed]",
      "text/plain": [
       "<Figure size 432x288 with 1 Axes>"
      ]
     },
     "metadata": {
      "needs_background": "light"
     },
     "output_type": "display_data"
    }
   ],
   "source": [
    "from tqdm import tqdm\n",
    "model = Net()\n",
    "criterion = nn.CrossEntropyLoss()\n",
    "optimizer = torch.optim.SGD(model.parameters(), lr=0.003)\n",
    "\n",
    "history = FitHistory()\n",
    "for epoch in tqdm(range(50)):  # loop over the dataset multiple times\n",
    "    running_loss = 0.0 \n",
    "    for i, data in enumerate(train_loader):\n",
    "        inputs, labels = data\n",
    "        inputs, labels = Variable(inputs.float()), Variable(labels)\n",
    "        optimizer.zero_grad()\n",
    "        outputs = model(inputs)\n",
    "        loss = criterion(outputs, labels)\n",
    "        loss.backward()\n",
    "        optimizer.step()\n",
    "        running_loss += loss.item()\n",
    "    # train\n",
    "    X, y = train[:]\n",
    "    acc_train = accuracy_score(y,np.argmax(model(X.float()).data,axis=1))\n",
    "    # test\n",
    "    X, y = valid[:]\n",
    "    acc_valid = accuracy_score(y,np.argmax(model(X.float()).data,axis=1))\n",
    "#     print(f\"~ epoch {epoch} ~ \\nloss:{running_loss/(i+1)}\\nacc[train]:{acc_train}\\nacc[valid]:{acc_valid}\\n\\n\")\n",
    "    history.loss_list.append(running_loss/(i+1))\n",
    "    history.acc_train_list.append(acc_train)\n",
    "    history.acc_valid_list.append(acc_valid)\n",
    "history.plot()"
   ]
  },
  {
   "cell_type": "markdown",
   "metadata": {},
   "source": [
    "## 76. チェックポイント\n",
    "問題75のコードを改変し，各エポックのパラメータ更新が完了するたびに，チェックポイント（学習途中のパラメータ（重み行列など）の値や最適化アルゴリズムの内部状態）をファイルに書き出せ．"
   ]
  },
  {
   "cell_type": "code",
   "execution_count": null,
   "metadata": {},
   "outputs": [],
   "source": [
    "# モデルの保存\n",
    "# torch.save(model.state_dict(), 'model.pth')"
   ]
  },
  {
   "cell_type": "markdown",
   "metadata": {},
   "source": [
    "## 77. ミニバッチ化\n",
    "問題76のコードを改変し，B\n",
    "事例ごとに損失・勾配を計算し，行列$W$\n",
    "の値を更新せよ（ミニバッチ化）．B\n",
    "の値を1,2,4,8,…\n",
    "と変化させながら，1エポックの学習に要する時間を比較せよ．"
   ]
  },
  {
   "cell_type": "code",
   "execution_count": 275,
   "metadata": {},
   "outputs": [
    {
     "name": "stderr",
     "output_type": "stream",
     "text": [
      "100%|██████████| 50/50 [05:13<00:00,  6.28s/it]\n"
     ]
    },
    {
     "data": {
      "image/png": "[encoded data removed]",
      "text/plain": [
       "<Figure size 432x288 with 1 Axes>"
      ]
     },
     "metadata": {
      "needs_background": "light"
     },
     "output_type": "display_data"
    },
    {
     "name": "stderr",
     "output_type": "stream",
     "text": [
      "\r",
      "  0%|          | 0/50 [00:00<?, ?it/s]"
     ]
    },
    {
     "name": "stdout",
     "output_type": "stream",
     "text": [
      "[batch_size] 1\n",
      "[elasp time] 324.1779749393463\n",
      "\n",
      "\n"
     ]
    },
    {
     "name": "stderr",
     "output_type": "stream",
     "text": [
      "100%|██████████| 50/50 [00:19<00:00,  2.63it/s]\n"
     ]
    },
    {
     "data": {
      "image/png": "[encoded data removed]",
      "text/plain": [
       "<Figure size 432x288 with 1 Axes>"
      ]
     },
     "metadata": {
      "needs_background": "light"
     },
     "output_type": "display_data"
    },
    {
     "name": "stderr",
     "output_type": "stream",
     "text": [
      "\r",
      "  0%|          | 0/50 [00:00<?, ?it/s]"
     ]
    },
    {
     "name": "stdout",
     "output_type": "stream",
     "text": [
      "[batch_size] 100\n",
      "[elasp time] 29.407253980636597\n",
      "\n",
      "\n"
     ]
    },
    {
     "name": "stderr",
     "output_type": "stream",
     "text": [
      "100%|██████████| 50/50 [00:17<00:00,  2.80it/s]\n"
     ]
    },
    {
     "data": {
      "image/png": "[encoded data removed]",
      "text/plain": [
       "<Figure size 432x288 with 1 Axes>"
      ]
     },
     "metadata": {
      "needs_background": "light"
     },
     "output_type": "display_data"
    },
    {
     "name": "stdout",
     "output_type": "stream",
     "text": [
      "[batch_size] 1000\n",
      "[elasp time] 28.296889066696167\n",
      "\n",
      "\n"
     ]
    }
   ],
   "source": [
    "import time\n",
    "for batch_size in (1,100,1000):\n",
    "    str = time.time()\n",
    "    train_loader = torch.utils.data.DataLoader(train, batch_size=batch_size, shuffle=True)\n",
    "    model = Net()\n",
    "    criterion = nn.CrossEntropyLoss()\n",
    "    optimizer = torch.optim.SGD(model.parameters(), lr=0.003)\n",
    "\n",
    "    history = FitHistory(loss_list=[],acc_train_list=[],acc_valid_list=[])\n",
    "    for epoch in tqdm(range(50)):  # loop over the dataset multiple times\n",
    "        running_loss = 0.0 \n",
    "        for i, data in enumerate(train_loader):\n",
    "            inputs, labels = data\n",
    "            inputs, labels = Variable(inputs.float()), Variable(labels)\n",
    "            optimizer.zero_grad()\n",
    "            outputs = model(inputs)\n",
    "            loss = criterion(outputs, labels)\n",
    "            loss.backward()\n",
    "            optimizer.step()\n",
    "            running_loss += loss.item()\n",
    "        # train\n",
    "        X, y = train[:]\n",
    "        acc_train = accuracy_score(y,np.argmax(model(X.float()).data,axis=1))\n",
    "        # test\n",
    "        X, y = valid[:]\n",
    "        acc_valid = accuracy_score(y,np.argmax(model(X.float()).data,axis=1))\n",
    "    #     print(f\"~ epoch {epoch} ~ \\nloss:{running_loss/(i+1)}\\nacc[train]:{acc_train}\\nacc[valid]:{acc_valid}\\n\\n\")\n",
    "        history.loss_list.append(running_loss/(i+1))\n",
    "        history.acc_train_list.append(acc_train)\n",
    "        history.acc_valid_list.append(acc_valid)\n",
    "    history.plot()\n",
    "    print(f'[batch_size] {batch_size}\\n[elasp time] {time.time()-str}\\n\\n')"
   ]
  },
  {
   "cell_type": "markdown",
   "metadata": {},
   "source": [
    "## 78. GPU上での学習\n",
    "問題77のコードを改変し，GPU上で学習を実行せよ．"
   ]
  },
  {
   "cell_type": "code",
   "execution_count": null,
   "metadata": {},
   "outputs": [],
   "source": []
  },
  {
   "cell_type": "markdown",
   "metadata": {},
   "source": [
    "## 79. 多層ニューラルネットワーク\n",
    "問題78のコードを改変し，バイアス項の導入や多層化など，ニューラルネットワークの形状を変更しながら，高性能なカテゴリ分類器を構築せよ．"
   ]
  },
  {
   "cell_type": "code",
   "execution_count": null,
   "metadata": {},
   "outputs": [],
   "source": [
    "\n"
   ]
  }
 ],
 "metadata": {
  "kernelspec": {
   "display_name": "Python 3.8.2 64-bit ('nlp-100-knocks-2020-UTXiV_Xd-py3.8': venv)",
   "language": "python",
   "name": "python38264bitnlp100knocks2020utxivxdpy38venv6f1bdc414e1c42079574c87f4d492959"
  },
  "language_info": {
   "codemirror_mode": {
    "name": "ipython",
    "version": 3
   },
   "file_extension": ".py",
   "mimetype": "text/x-python",
   "name": "python",
   "nbconvert_exporter": "python",
   "pygments_lexer": "ipython3",
   "version": "3.8.2"
  }
 },
 "nbformat": 4,
 "nbformat_minor": 4
}
